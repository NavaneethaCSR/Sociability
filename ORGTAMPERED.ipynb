{
  "cells": [
    {
      "cell_type": "markdown",
      "metadata": {
        "id": "view-in-github",
        "colab_type": "text"
      },
      "source": [
        "<a href=\"https://colab.research.google.com/github/NavaneethaCSR/Sociability-Level-Prediction/blob/main/ORGTAMPERED.ipynb\" target=\"_parent\"><img src=\"https://colab.research.google.com/assets/colab-badge.svg\" alt=\"Open In Colab\"/></a>"
      ]
    },
    {
      "cell_type": "code",
      "execution_count": null,
      "metadata": {
        "id": "A4fZJUMz6N5q"
      },
      "outputs": [],
      "source": [
        "import numpy as np\n",
        "from tensorflow.keras.callbacks import EarlyStopping\n",
        "from tensorflow import keras\n",
        "from keras.preprocessing import image\n",
        "import os\n",
        "import cv2\n",
        "from tensorflow.keras.models import Sequential,Model\n",
        "from tensorflow.keras.layers import Input, Conv2D, MaxPooling2D, BatchNormalization, Activation, Add, ZeroPadding2D, AveragePooling2D, Flatten, Dense,Dropout\n",
        "from tensorflow.keras import layers, models,regularizers\n",
        "from sklearn.preprocessing import LabelEncoder\n",
        "from PIL import Image\n",
        "from tensorflow.keras.preprocessing.image import ImageDataGenerator\n",
        "from tensorflow.keras.optimizers import Adam\n",
        "from tensorflow.keras.applications import VGG16\n",
        "from tensorflow.keras.applications.vgg16 import preprocess_input"
      ]
    },
    {
      "cell_type": "code",
      "execution_count": null,
      "metadata": {
        "id": "NwKIeCh87cQ5"
      },
      "outputs": [],
      "source": [
        "\n",
        "train_data='/content/drive/MyDrive/Colab Notebooks/Datasets/ORGTAMP/train'\n",
        "\n",
        "validation_data='/content/drive/MyDrive/Colab Notebooks/Datasets/ORGTAMP/validation'\n",
        "test_data='/content/drive/MyDrive/Colab Notebooks/Datasets/ORGTAMP/test'"
      ]
    },
    {
      "cell_type": "markdown",
      "metadata": {
        "id": "-Vj16CY45_KY"
      },
      "source": [
        "## **DATA AUGMENTATION**"
      ]
    },
    {
      "cell_type": "code",
      "execution_count": null,
      "metadata": {
        "colab": {
          "base_uri": "https://localhost:8080/"
        },
        "id": "FmU9MspEEf_f",
        "outputId": "f007c8a0-8634-4957-fa20-d658b55183ec"
      },
      "outputs": [
        {
          "output_type": "stream",
          "name": "stdout",
          "text": [
            "Found 96 images belonging to 2 classes.\n",
            "Found 24 images belonging to 2 classes.\n",
            "Found 12 images belonging to 2 classes.\n"
          ]
        }
      ],
      "source": [
        "train_datagen = ImageDataGenerator(\n",
        "    rescale=1./255,\n",
        "    rotation_range=20,\n",
        "    width_shift_range=0.2,\n",
        "    height_shift_range=0.2,\n",
        "    shear_range=0.2,\n",
        "    zoom_range=0.2,\n",
        "    horizontal_flip=True,\n",
        "    preprocessing_function=preprocess_input\n",
        ")\n",
        "\n",
        "validation_datagen = ImageDataGenerator(rescale=1./255,preprocessing_function=preprocess_input )\n",
        "test_datagen = ImageDataGenerator(rescale=1./255,preprocessing_function=preprocess_input )\n",
        "train_generator = train_datagen.flow_from_directory(\n",
        "    '/content/drive/MyDrive/Colab Notebooks/Datasets/ORGTAMP/train',\n",
        "    target_size=(224, 224),\n",
        "    batch_size=64,\n",
        "\n",
        "    class_mode='binary',\n",
        "    seed=32,\n",
        "    interpolation='bicubic'\n",
        ")\n",
        "\n",
        "validation_generator = validation_datagen.flow_from_directory(\n",
        "    '/content/drive/MyDrive/Colab Notebooks/Datasets/ORGTAMP/validation',\n",
        "    target_size=(224, 224),\n",
        "    batch_size=64,\n",
        "    color_mode='grayscale',\n",
        "    class_mode='binary',\n",
        "    seed=32,\n",
        "    interpolation='bicubic'\n",
        ")\n",
        "test_generator = test_datagen.flow_from_directory(\n",
        "    '/content/drive/MyDrive/Colab Notebooks/Datasets/ORGTAMP/test',\n",
        "    target_size=(224, 224),\n",
        "    batch_size=64,\n",
        "\n",
        "    class_mode='binary',\n",
        "    seed=32,\n",
        "    interpolation='bicubic'\n",
        ")"
      ]
    },
    {
      "cell_type": "markdown",
      "source": [
        "## **DATA PRE-PROCESSING**"
      ],
      "metadata": {
        "id": "6usAbLKWDMbp"
      }
    },
    {
      "cell_type": "code",
      "source": [
        "def create_vgg16_model(input_shape=(224, 224, 3), num_classes=2):\n",
        "    base_model = VGG16(weights='imagenet', include_top=False, input_shape=input_shape)\n",
        "    for layer in base_model.layers[:-8]:\n",
        "        layer.trainable = False\n",
        "    x = base_model.output\n",
        "    x = Flatten()(x)\n",
        "    x = Dense(1024, activation='relu')(x)\n",
        "    x = Dropout(0.5)(x)\n",
        "    predictions = Dense(num_classes, activation='sigmoid')(x)\n",
        "    model = Model(inputs=base_model.input, outputs=predictions)\n",
        "\n",
        "    model.compile(optimizer=Adam(learning_rate=1e-4), loss='binary_crossentropy', metrics=['accuracy'])\n",
        "    return model"
      ],
      "metadata": {
        "id": "1HOF2uzfycSg"
      },
      "execution_count": null,
      "outputs": []
    },
    {
      "cell_type": "code",
      "source": [
        "model = create_vgg16_model(input_shape=(224, 224, 3), num_classes=1)"
      ],
      "metadata": {
        "id": "xWuvACFHynCH"
      },
      "execution_count": null,
      "outputs": []
    },
    {
      "cell_type": "code",
      "execution_count": null,
      "metadata": {
        "id": "z4CKqW7hgBGF"
      },
      "outputs": [],
      "source": [
        "early_stopping = EarlyStopping(monitor='val_loss', patience=4, restore_best_weights=True)"
      ]
    },
    {
      "cell_type": "markdown",
      "metadata": {
        "id": "OUz7f78Z6aan"
      },
      "source": [
        "### **TRAINING**"
      ]
    },
    {
      "cell_type": "code",
      "execution_count": null,
      "metadata": {
        "colab": {
          "base_uri": "https://localhost:8080/"
        },
        "id": "HqKyo9zDE6il",
        "outputId": "480542c0-5c23-4964-d592-b57ceb85e973"
      },
      "outputs": [
        {
          "output_type": "stream",
          "name": "stdout",
          "text": [
            "Epoch 1/40\n",
            "\u001b[1m2/2\u001b[0m \u001b[32m━━━━━━━━━━━━━━━━━━━━\u001b[0m\u001b[37m\u001b[0m \u001b[1m139s\u001b[0m 51s/step - accuracy: 0.6267 - loss: 0.6151 - val_accuracy: 0.6667 - val_loss: 0.6349\n",
            "Epoch 2/40\n",
            "\u001b[1m2/2\u001b[0m \u001b[32m━━━━━━━━━━━━━━━━━━━━\u001b[0m\u001b[37m\u001b[0m \u001b[1m144s\u001b[0m 54s/step - accuracy: 0.5486 - loss: 0.6462 - val_accuracy: 0.6667 - val_loss: 0.6350\n",
            "Epoch 3/40\n",
            "\u001b[1m2/2\u001b[0m \u001b[32m━━━━━━━━━━━━━━━━━━━━\u001b[0m\u001b[37m\u001b[0m \u001b[1m132s\u001b[0m 88s/step - accuracy: 0.7083 - loss: 0.5700 - val_accuracy: 0.7500 - val_loss: 0.6182\n",
            "Epoch 4/40\n",
            "\u001b[1m2/2\u001b[0m \u001b[32m━━━━━━━━━━━━━━━━━━━━\u001b[0m\u001b[37m\u001b[0m \u001b[1m125s\u001b[0m 84s/step - accuracy: 0.6944 - loss: 0.6175 - val_accuracy: 0.5833 - val_loss: 0.6382\n",
            "Epoch 5/40\n",
            "\u001b[1m2/2\u001b[0m \u001b[32m━━━━━━━━━━━━━━━━━━━━\u001b[0m\u001b[37m\u001b[0m \u001b[1m142s\u001b[0m 45s/step - accuracy: 0.6233 - loss: 0.6182 - val_accuracy: 0.6667 - val_loss: 0.6357\n",
            "Epoch 6/40\n",
            "\u001b[1m2/2\u001b[0m \u001b[32m━━━━━━━━━━━━━━━━━━━━\u001b[0m\u001b[37m\u001b[0m \u001b[1m126s\u001b[0m 84s/step - accuracy: 0.6562 - loss: 0.5979 - val_accuracy: 0.7500 - val_loss: 0.6409\n",
            "Epoch 7/40\n",
            "\u001b[1m2/2\u001b[0m \u001b[32m━━━━━━━━━━━━━━━━━━━━\u001b[0m\u001b[37m\u001b[0m \u001b[1m142s\u001b[0m 83s/step - accuracy: 0.7188 - loss: 0.5375 - val_accuracy: 0.6667 - val_loss: 0.6300\n"
          ]
        },
        {
          "output_type": "execute_result",
          "data": {
            "text/plain": [
              "<keras.src.callbacks.history.History at 0x7bc5c11c33a0>"
            ]
          },
          "metadata": {},
          "execution_count": 83
        }
      ],
      "source": [
        "model.fit(train_generator,validation_data=test_generator,epochs=40,callbacks=[early_stopping])"
      ]
    },
    {
      "cell_type": "markdown",
      "metadata": {
        "id": "ewWhhI2Z6h8q"
      },
      "source": [
        "## **TESTING**"
      ]
    },
    {
      "cell_type": "code",
      "execution_count": null,
      "metadata": {
        "colab": {
          "base_uri": "https://localhost:8080/"
        },
        "id": "JVoeoY81cBkH",
        "outputId": "c46644b2-5823-49ff-80b2-4832cc547c62"
      },
      "outputs": [
        {
          "output_type": "stream",
          "name": "stdout",
          "text": [
            "\u001b[1m1/1\u001b[0m \u001b[32m━━━━━━━━━━━━━━━━━━━━\u001b[0m\u001b[37m\u001b[0m \u001b[1m7s\u001b[0m 7s/step - accuracy: 0.7500 - loss: 0.6182\n"
          ]
        },
        {
          "output_type": "execute_result",
          "data": {
            "text/plain": [
              "[0.6181960701942444, 0.75]"
            ]
          },
          "metadata": {},
          "execution_count": 84
        }
      ],
      "source": [
        "model.evaluate(test_generator)"
      ]
    }
  ],
  "metadata": {
    "colab": {
      "provenance": [],
      "mount_file_id": "1-Z2rcaikQJJ-GmCkw68jGPxVxPzpXM8x",
      "authorship_tag": "ABX9TyO0f0ravAD+hNTaPPsnysjc",
      "include_colab_link": true
    },
    "kernelspec": {
      "display_name": "Python 3",
      "name": "python3"
    },
    "language_info": {
      "name": "python"
    }
  },
  "nbformat": 4,
  "nbformat_minor": 0
}